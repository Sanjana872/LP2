{
 "cells": [
  {
   "cell_type": "code",
   "execution_count": null,
   "id": "01fd304d-1395-4028-8115-3847fbb0f269",
   "metadata": {},
   "outputs": [],
   "source": [
    "#Implement Greedy search algorithm for Dijkstra's Minimal Spanning Tree Algorithm."
   ]
  },
  {
   "cell_type": "code",
   "execution_count": 1,
   "id": "0e421c1e-4126-4820-8d2d-5054e0b9a1a4",
   "metadata": {},
   "outputs": [
    {
     "name": "stdin",
     "output_type": "stream",
     "text": [
      "Enter the number of edges:  6\n"
     ]
    },
    {
     "name": "stdout",
     "output_type": "stream",
     "text": [
      "Enter 6 edges (u v weight) separated by space:\n"
     ]
    },
    {
     "name": "stdin",
     "output_type": "stream",
     "text": [
      " 1 2 2\n",
      " 1 3 5\n",
      " 3 4 4 \n",
      " 2 4 1\n",
      " 2 5 3\n",
      " 4 5 2\n",
      "Enter the starting vertex for Dijkstra's algorithm:  1\n"
     ]
    },
    {
     "name": "stdout",
     "output_type": "stream",
     "text": [
      "Shortest Distances from the start vertex:\n",
      "Vertex 1: Distance 0\n",
      "Vertex 2: Distance 2\n",
      "Vertex 3: Distance 5\n",
      "Vertex 4: Distance 3\n",
      "Vertex 5: Distance 5\n"
     ]
    }
   ],
   "source": [
    "from collections import defaultdict\n",
    "\n",
    "class Graph:\n",
    "    def __init__(self):\n",
    "        self.adj_list = defaultdict(list)\n",
    "\n",
    "    def add_edge(self, u, v, weight):\n",
    "        self.adj_list[u].append((v, weight))\n",
    "        self.adj_list[v].append((u, weight))  # For undirected graph\n",
    "\n",
    "    def dijkstra_shortest_path(self, start):\n",
    "        # Initialize distances with infinity for all vertices\n",
    "        distances = {node: float('inf') for node in self.adj_list}\n",
    "        distances[start] = 0\n",
    "\n",
    "        unvisited = set(self.adj_list.keys())\n",
    "\n",
    "        while unvisited:\n",
    "            # Find the vertex with the minimum distance in unvisited set\n",
    "            min_vertex = None\n",
    "            for vertex in unvisited:\n",
    "                if min_vertex is None or distances[vertex] < distances[min_vertex]:\n",
    "                    min_vertex = vertex\n",
    "\n",
    "            if min_vertex is None:\n",
    "                break\n",
    "\n",
    "            unvisited.remove(min_vertex)\n",
    "\n",
    "            # Update distances for adjacent vertices\n",
    "            for neighbor, weight in self.adj_list[min_vertex]:\n",
    "                if neighbor in unvisited:\n",
    "                    new_distance = distances[min_vertex] + weight\n",
    "                    if new_distance < distances[neighbor]:\n",
    "                        distances[neighbor] = new_distance\n",
    "\n",
    "        return distances\n",
    "\n",
    "if __name__ == \"__main__\":\n",
    "    g = Graph()\n",
    "\n",
    "    # Input the number of edges\n",
    "    n = int(input(\"Enter the number of edges: \"))\n",
    "\n",
    "    print(f\"Enter {n} edges (u v weight) separated by space:\")\n",
    "    for _ in range(n):\n",
    "        u, v, weight = map(int, input().split())\n",
    "        g.add_edge(u, v, weight)\n",
    "\n",
    "    start_vertex = int(input(\"Enter the starting vertex for Dijkstra's algorithm: \"))\n",
    "\n",
    "    # Compute shortest paths using Dijkstra's algorithm\n",
    "    shortest_paths = g.dijkstra_shortest_path(start_vertex)\n",
    "\n",
    "    print(\"Shortest Distances from the start vertex:\")\n",
    "    for vertex, distance in shortest_paths.items():\n",
    "        print(f\"Vertex {vertex}: Distance {distance}\")\n"
   ]
  },
  {
   "cell_type": "code",
   "execution_count": null,
   "id": "301d419d-dc8a-4c5c-bd4e-b921ef04e9ce",
   "metadata": {},
   "outputs": [],
   "source": []
  }
 ],
 "metadata": {
  "kernelspec": {
   "display_name": "Python 3 (ipykernel)",
   "language": "python",
   "name": "python3"
  },
  "language_info": {
   "codemirror_mode": {
    "name": "ipython",
    "version": 3
   },
   "file_extension": ".py",
   "mimetype": "text/x-python",
   "name": "python",
   "nbconvert_exporter": "python",
   "pygments_lexer": "ipython3",
   "version": "3.11.7"
  }
 },
 "nbformat": 4,
 "nbformat_minor": 5
}
