{
 "cells": [
  {
   "cell_type": "code",
   "execution_count": null,
   "id": "6cff71fc-e9a2-4faf-a1b6-022504cf21c7",
   "metadata": {},
   "outputs": [],
   "source": [
    "#15.\tWrite a Java/C/C++/Python program to implement DES algorithm."
   ]
  },
  {
   "cell_type": "code",
   "execution_count": 4,
   "id": "b99a93d4-c50e-45e7-a60e-5713a42f34ac",
   "metadata": {},
   "outputs": [
    {
     "name": "stdout",
     "output_type": "stream",
     "text": [
      "Defaulting to user installation because normal site-packages is not writeable\n",
      "Collecting pycryptodome\n",
      "  Downloading pycryptodome-3.20.0-cp35-abi3-win_amd64.whl.metadata (3.4 kB)\n",
      "Downloading pycryptodome-3.20.0-cp35-abi3-win_amd64.whl (1.8 MB)\n",
      "   ---------------------------------------- 0.0/1.8 MB ? eta -:--:--\n",
      "   ---------------------------------------- 0.0/1.8 MB ? eta -:--:--\n",
      "   ---------------------------------------- 0.0/1.8 MB ? eta -:--:--\n",
      "   ---------------------------------------- 0.0/1.8 MB ? eta -:--:--\n",
      "    --------------------------------------- 0.0/1.8 MB 262.6 kB/s eta 0:00:07\n",
      "    --------------------------------------- 0.0/1.8 MB 245.8 kB/s eta 0:00:07\n",
      "   - -------------------------------------- 0.1/1.8 MB 459.5 kB/s eta 0:00:04\n",
      "   ----- ---------------------------------- 0.2/1.8 MB 1.1 MB/s eta 0:00:02\n",
      "   ---------- ----------------------------- 0.5/1.8 MB 1.7 MB/s eta 0:00:01\n",
      "   ------------------ --------------------- 0.8/1.8 MB 2.6 MB/s eta 0:00:01\n",
      "   --------------------------- ------------ 1.2/1.8 MB 3.4 MB/s eta 0:00:01\n",
      "   ------------------------------------- -- 1.6/1.8 MB 4.0 MB/s eta 0:00:01\n",
      "   ---------------------------------------- 1.8/1.8 MB 4.1 MB/s eta 0:00:00\n",
      "Installing collected packages: pycryptodome\n",
      "Successfully installed pycryptodome-3.20.0\n"
     ]
    },
    {
     "name": "stderr",
     "output_type": "stream",
     "text": [
      "DEPRECATION: Loading egg at c:\\program files\\python312\\lib\\site-packages\\vboxapi-1.0-py3.12.egg is deprecated. pip 24.3 will enforce this behaviour change. A possible replacement is to use pip for package installation.. Discussion can be found at https://github.com/pypa/pip/issues/12330\n"
     ]
    }
   ],
   "source": [
    "!Pip install pycryptodome\n",
    "\n"
   ]
  },
  {
   "cell_type": "code",
   "execution_count": 5,
   "id": "def40436-3e33-4788-bf8a-40f62b8fafe5",
   "metadata": {},
   "outputs": [
    {
     "name": "stdout",
     "output_type": "stream",
     "text": [
      "Generated DES key: c3057c45efc069b7\n"
     ]
    },
    {
     "name": "stdin",
     "output_type": "stream",
     "text": [
      "Enter plaintext message to encrypt:  Akshata Bidwe\n"
     ]
    },
    {
     "name": "stdout",
     "output_type": "stream",
     "text": [
      "Encrypted ciphertext: a46eba29fad0d80a9ce2ab36b3fd69fa\n",
      "Decrypted plaintext: Akshata Bidwe\n"
     ]
    }
   ],
   "source": [
    "from Crypto.Cipher import DES\n",
    "from Crypto.Random import get_random_bytes\n",
    "from Crypto.Util.Padding import pad, unpad\n",
    "\n",
    "def generate_des_key():\n",
    "    # Generate a random 8-byte (64-bit) key for DES\n",
    "    return get_random_bytes(8)\n",
    "\n",
    "def des_encrypt(key, plaintext):\n",
    "    # Create a DES cipher object with the provided key\n",
    "    cipher = DES.new(key, DES.MODE_ECB)\n",
    "    # Pad the plaintext to be a multiple of 8 bytes (DES block size)\n",
    "    padded_plaintext = pad(plaintext.encode(), DES.block_size)\n",
    "    # Encrypt the padded plaintext\n",
    "    ciphertext = cipher.encrypt(padded_plaintext)\n",
    "    return ciphertext\n",
    "\n",
    "def des_decrypt(key, ciphertext):\n",
    "    # Create a DES cipher object with the provided key\n",
    "    cipher = DES.new(key, DES.MODE_ECB)\n",
    "    # Decrypt the ciphertext\n",
    "    decrypted_plaintext = cipher.decrypt(ciphertext)\n",
    "    # Unpad the decrypted plaintext\n",
    "    plaintext = unpad(decrypted_plaintext, DES.block_size).decode()\n",
    "    return plaintext\n",
    "\n",
    "def main():\n",
    "    # Generate a random DES key\n",
    "    des_key = generate_des_key()\n",
    "    print(f\"Generated DES key: {des_key.hex()}\")\n",
    "\n",
    "    # Input plaintext message\n",
    "    plaintext = input(\"Enter plaintext message to encrypt: \")\n",
    "\n",
    "    # Encrypt the plaintext using DES\n",
    "    ciphertext = des_encrypt(des_key, plaintext)\n",
    "    print(f\"Encrypted ciphertext: {ciphertext.hex()}\")\n",
    "\n",
    "    # Decrypt the ciphertext using DES\n",
    "    decrypted_plaintext = des_decrypt(des_key, ciphertext)\n",
    "    print(f\"Decrypted plaintext: {decrypted_plaintext}\")\n",
    "\n",
    "if __name__ == \"__main__\":\n",
    "    main()\n"
   ]
  },
  {
   "cell_type": "code",
   "execution_count": null,
   "id": "094b9f16-8673-4c36-a969-cf2eba8a16a9",
   "metadata": {},
   "outputs": [],
   "source": []
  }
 ],
 "metadata": {
  "kernelspec": {
   "display_name": "Python 3 (ipykernel)",
   "language": "python",
   "name": "python3"
  },
  "language_info": {
   "codemirror_mode": {
    "name": "ipython",
    "version": 3
   },
   "file_extension": ".py",
   "mimetype": "text/x-python",
   "name": "python",
   "nbconvert_exporter": "python",
   "pygments_lexer": "ipython3",
   "version": "3.12.2"
  }
 },
 "nbformat": 4,
 "nbformat_minor": 5
}
