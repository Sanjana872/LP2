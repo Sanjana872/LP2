{
 "cells": [
  {
   "cell_type": "code",
   "execution_count": null,
   "id": "7a7a904e-0ac9-46c9-ad26-8fa1865b4b03",
   "metadata": {},
   "outputs": [],
   "source": [
    "#Implement any of the following expert system: Employee performance evaluation"
   ]
  },
  {
   "cell_type": "code",
   "execution_count": 1,
   "id": "b532f04e-ba4b-4124-9fbc-2b4ea92be07f",
   "metadata": {},
   "outputs": [
    {
     "name": "stdout",
     "output_type": "stream",
     "text": [
      "Performance Rating: outstanding\n"
     ]
    }
   ],
   "source": []
  },
  {
   "cell_type": "code",
   "execution_count": 1,
   "id": "f34cf135-ef3b-4689-b604-ab45f4c4d29b",
   "metadata": {},
   "outputs": [
    {
     "name": "stdout",
     "output_type": "stream",
     "text": [
      "\n",
      "Expert System - Contact Management\n",
      "1. Add Contact\n",
      "2. Search Contact\n",
      "3. Delete Contact\n",
      "4. Exit\n"
     ]
    },
    {
     "name": "stdin",
     "output_type": "stream",
     "text": [
      "Enter your choice (1-4):  1\n",
      "Enter contact name:  Sanjana\n",
      "Enter phone number:  8999650151\n"
     ]
    },
    {
     "name": "stdout",
     "output_type": "stream",
     "text": [
      "Added Sanjana with phone number 8999650151 to contacts.\n",
      "\n",
      "Expert System - Contact Management\n",
      "1. Add Contact\n",
      "2. Search Contact\n",
      "3. Delete Contact\n",
      "4. Exit\n"
     ]
    },
    {
     "name": "stdin",
     "output_type": "stream",
     "text": [
      "Enter your choice (1-4):  4\n"
     ]
    },
    {
     "name": "stdout",
     "output_type": "stream",
     "text": [
      "Exiting...\n"
     ]
    }
   ],
   "source": [
    "#Expert system - information mangement\n",
    "class ExpertSystem:\n",
    "    def __init__(self):\n",
    "        self.contacts = {}  # Dictionary to store contacts (name -> phone number)\n",
    "\n",
    "    def add_contact(self, name, phone_number):\n",
    "        if name in self.contacts:\n",
    "            print(f\"Error: {name} already exists in contacts.\")\n",
    "        else:\n",
    "            self.contacts[name] = phone_number\n",
    "            print(f\"Added {name} with phone number {phone_number} to contacts.\")\n",
    "\n",
    "    def search_contact(self, name):\n",
    "        if name in self.contacts:\n",
    "            print(f\"Phone number for {name}: {self.contacts[name]}\")\n",
    "        else:\n",
    "            print(f\"{name} not found in contacts.\")\n",
    "\n",
    "    def delete_contact(self, name):\n",
    "        if name in self.contacts:\n",
    "            del self.contacts[name]\n",
    "            print(f\"Deleted {name} from contacts.\")\n",
    "        else:\n",
    "            print(f\"{name} not found in contacts.\")\n",
    "\n",
    "def main():\n",
    "    expert_system = ExpertSystem()\n",
    "\n",
    "    while True:\n",
    "        print(\"\\nExpert System - Contact Management\")\n",
    "        print(\"1. Add Contact\")\n",
    "        print(\"2. Search Contact\")\n",
    "        print(\"3. Delete Contact\")\n",
    "        print(\"4. Exit\")\n",
    "\n",
    "        choice = input(\"Enter your choice (1-4): \")\n",
    "\n",
    "        if choice == '1':\n",
    "            name = input(\"Enter contact name: \")\n",
    "            phone_number = input(\"Enter phone number: \")\n",
    "            expert_system.add_contact(name, phone_number)\n",
    "        elif choice == '2':\n",
    "            name = input(\"Enter contact name to search: \")\n",
    "            expert_system.search_contact(name)\n",
    "        elif choice == '3':\n",
    "            name = input(\"Enter contact name to delete: \")\n",
    "            expert_system.delete_contact(name)\n",
    "        elif choice == '4':\n",
    "            print(\"Exiting...\")\n",
    "            break\n",
    "        else:\n",
    "            print(\"Invalid choice. Please enter a valid option (1-4).\")\n",
    "\n",
    "if __name__ == '__main__':\n",
    "    main()\n"
   ]
  },
  {
   "cell_type": "code",
   "execution_count": 2,
   "id": "4ea6b689-7813-44b0-bdfc-482a6cb42228",
   "metadata": {},
   "outputs": [
    {
     "name": "stdout",
     "output_type": "stream",
     "text": [
      "Welcome to the Stock Market Trading Expert System!\n",
      "Please provide the historical prices (enter 'done' to finish):\n"
     ]
    },
    {
     "name": "stdin",
     "output_type": "stream",
     "text": [
      "Enter price (or 'done' to finish):  45  \n",
      "Enter price (or 'done' to finish):  3\n",
      "Enter price (or 'done' to finish):  42\n",
      "Enter price (or 'done' to finish):  23\n",
      "Enter price (or 'done' to finish):  done\n"
     ]
    },
    {
     "name": "stdout",
     "output_type": "stream",
     "text": [
      "\n",
      "Action Recommendation:\n",
      "Recommendation: Sell\n"
     ]
    }
   ],
   "source": [
    "#program to Implement following Expert System: b.\tStock market trading\n",
    "class StockTradingExpert:\n",
    "    def __init__(self):\n",
    "        self.prices = []\n",
    "        self.buy_signal = False\n",
    "        self.sell_signal = False\n",
    "\n",
    "    def add_price(self, price):\n",
    "        self.prices.append(price)\n",
    "        self.update_signals()\n",
    "\n",
    "    def update_signals(self):\n",
    "        if len(self.prices) >= 2:\n",
    "            current_price = self.prices[-1]\n",
    "            prev_price = self.prices[-2]\n",
    "\n",
    "            # Check for buy signal (current price crosses above previous price)\n",
    "            if current_price > prev_price:\n",
    "                self.buy_signal = True\n",
    "                self.sell_signal = False\n",
    "            else:\n",
    "                self.buy_signal = False\n",
    "\n",
    "            # Check for sell signal (current price crosses below previous price)\n",
    "            if current_price < prev_price:\n",
    "                self.sell_signal = True\n",
    "                self.buy_signal = False\n",
    "            else:\n",
    "                self.sell_signal = False\n",
    "\n",
    "    def recommend_action(self):\n",
    "        if self.buy_signal:\n",
    "            return \"Recommendation: Buy\"\n",
    "        elif self.sell_signal:\n",
    "            return \"Recommendation: Sell\"\n",
    "        else:\n",
    "            return \"No clear recommendation\"\n",
    "\n",
    "def main():\n",
    "    expert_system = StockTradingExpert()\n",
    "\n",
    "    print(\"Welcome to the Stock Market Trading Expert System!\")\n",
    "    print(\"Please provide the historical prices (enter 'done' to finish):\")\n",
    "\n",
    "    while True:\n",
    "        price_input = input(\"Enter price (or 'done' to finish): \")\n",
    "        if price_input.lower() == 'done':\n",
    "            break\n",
    "        try:\n",
    "            price = float(price_input)\n",
    "            expert_system.add_price(price)\n",
    "        except ValueError:\n",
    "            print(\"Invalid price. Please enter a valid number.\")\n",
    "\n",
    "    action_recommendation = expert_system.recommend_action()\n",
    "    print(\"\\nAction Recommendation:\")\n",
    "    print(action_recommendation)\n",
    "\n",
    "if __name__ == '__main__':\n",
    "    main()\n"
   ]
  },
  {
   "cell_type": "code",
   "execution_count": null,
   "id": "a7c9da74-1ec6-4ca7-a736-1eba30a728f6",
   "metadata": {},
   "outputs": [],
   "source": []
  }
 ],
 "metadata": {
  "kernelspec": {
   "display_name": "Python 3 (ipykernel)",
   "language": "python",
   "name": "python3"
  },
  "language_info": {
   "codemirror_mode": {
    "name": "ipython",
    "version": 3
   },
   "file_extension": ".py",
   "mimetype": "text/x-python",
   "name": "python",
   "nbconvert_exporter": "python",
   "pygments_lexer": "ipython3",
   "version": "3.11.7"
  }
 },
 "nbformat": 4,
 "nbformat_minor": 5
}
