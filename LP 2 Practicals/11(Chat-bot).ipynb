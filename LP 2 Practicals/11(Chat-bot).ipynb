{
 "cells": [
  {
   "cell_type": "code",
   "execution_count": null,
   "id": "fdbba4e3-5014-4004-8d72-a3cac4e004e4",
   "metadata": {},
   "outputs": [],
   "source": [
    "#11.\tDevelop an elementary Chabot for any suitable customer interaction application."
   ]
  },
  {
   "cell_type": "code",
   "execution_count": 1,
   "id": "1be93eff",
   "metadata": {},
   "outputs": [
    {
     "name": "stdin",
     "output_type": "stream",
     "text": [
      "User:  search laptop\n"
     ]
    },
    {
     "name": "stdout",
     "output_type": "stream",
     "text": [
      "Bot: I'm sorry, I didn't understand.\n"
     ]
    },
    {
     "name": "stdin",
     "output_type": "stream",
     "text": [
      "User:  exit\n"
     ]
    },
    {
     "name": "stdout",
     "output_type": "stream",
     "text": [
      "Bot: Goodbye!\n"
     ]
    }
   ],
   "source": [
    "import random\n",
    "import webbrowser\n",
    "import sys\n",
    "\n",
    "responses = {\n",
    "    \"greeting\": [\"Hello!\", \"Hi!\", \"Welcome!\"],\n",
    "    \"farewell\": [\"Goodbye!\", \"See you later!\", \"Take care!\"],\n",
    "    \"thanks\": [\"You're welcome!\", \"No problem!\", \"My pleasure!\"],\n",
    "    \"default\": [\"I'm sorry, I didn't understand.\", \"Could you please rephrase that?\", \"I'm still learning. Can you provide more information?\"]\n",
    "}\n",
    "\n",
    "def generate_response(user_input):\n",
    "    user_input = user_input.lower()\n",
    "    if \"hello\" in user_input or \"hi\" in user_input:\n",
    "        return random.choice(responses[\"greeting\"])\n",
    "    elif \"goodbye\" in user_input or \"bye\" in user_input:\n",
    "        return random.choice(responses[\"farewell\"])\n",
    "    elif \"thank\" in user_input:\n",
    "        return random.choice(responses[\"thanks\"])\n",
    "    elif \"exit\" in user_input:\n",
    "        return \"Goodbye!\"\n",
    "    else:\n",
    "        web_search(user_input)\n",
    "        return random.choice(responses[\"default\"])\n",
    "\n",
    "def web_search(query):\n",
    "    search_url = \"https://www.google.com/search?q=\" + query.replace(\" \", \"+\")\n",
    "    webbrowser.open(search_url)\n",
    "\n",
    "while True:\n",
    "    user_input = input(\"User: \")\n",
    "    bot_response = generate_response(user_input)\n",
    "    print(\"Bot:\", bot_response)\n",
    "    if \"exit\" in user_input:\n",
    "        break\n"
   ]
  },
  {
   "cell_type": "code",
   "execution_count": 7,
   "id": "0ec167e8-6575-4c99-bb38-6519fea53eb0",
   "metadata": {},
   "outputs": [
    {
     "name": "stdin",
     "output_type": "stream",
     "text": [
      "Please enter your name:  s\n"
     ]
    },
    {
     "name": "stdout",
     "output_type": "stream",
     "text": [
      "Good evening, s! Welcome to FastFoodChatbot.\n",
      "Here are our menu options:\n",
      "1. Burger\n",
      "2. Pizza\n",
      "3. Sandwich\n",
      "4. Salad\n",
      "5. Sign-in required item: Special Combo Meal\n",
      "6. Sign-in required item: Exclusive Dessert\n",
      "7. Sign-in required item: Premium Drink\n",
      "8. Sign-in required item: VIP Membership\n",
      "9. Exit\n"
     ]
    },
    {
     "name": "stdin",
     "output_type": "stream",
     "text": [
      "Please select an option (1-9):  9\n"
     ]
    },
    {
     "name": "stdout",
     "output_type": "stream",
     "text": [
      "Have a great day!\n"
     ]
    }
   ],
   "source": [
    "##### import datetime\n",
    "\n",
    "# Function to greet the user based on the time of the day\n",
    "def greet_user(name):\n",
    "    current_time = datetime.datetime.now()\n",
    "    if current_time.hour < 12:\n",
    "        greeting = \"Good morning\"\n",
    "    elif current_time.hour < 18:\n",
    "        greeting = \"Good afternoon\"\n",
    "    else:\n",
    "        greeting = \"Good evening\"\n",
    "    print(f\"{greeting}, {name}! Welcome to FastFoodChatbot.\")\n",
    "\n",
    "# Function to display menu options\n",
    "def display_menu():\n",
    "    print(\"Here are our menu options:\")\n",
    "    print(\"1. Burger\")\n",
    "    print(\"2. Pizza\")\n",
    "    print(\"3. Sandwich\")\n",
    "    print(\"4. Salad\")\n",
    "    print(\"5. Sign-in required item: Special Combo Meal\")\n",
    "    print(\"6. Sign-in required item: Exclusive Dessert\")\n",
    "    print(\"7. Sign-in required item: Premium Drink\")\n",
    "    print(\"8. Sign-in required item: VIP Membership\")\n",
    "    print(\"9. Exit\")\n",
    "\n",
    "\n",
    "def sign_in():\n",
    "    username = input(\"Enter your username: \")\n",
    "    password = input(\"Enter your password: \")\n",
    "   \n",
    "    if username == \"user\" and password == \"password\":\n",
    "        print(\"Sign-in successful.\")\n",
    "        return True\n",
    "    else:\n",
    "        print(\"Incorrect username or password.\")\n",
    "        return False\n",
    "\n",
    "\n",
    "def display_item_details(item):\n",
    "    print(f\"Details of {item}:\")\n",
    "   \n",
    "    print(\"Price: $10.99\")\n",
    "    print(\"Ingredients: Tomato, lettuce, cheese, beef patty, bun\")\n",
    "\n",
    "# Main function\n",
    "def main():\n",
    "    name = input(\"Please enter your name: \")\n",
    "    greet_user(name)\n",
    "   \n",
    "    while True:\n",
    "        display_menu()\n",
    "        choice = input(\"Please select an option (1-9): \")\n",
    "       \n",
    "        if choice == \"9\":\n",
    "            print(\"Have a great day!\")\n",
    "            break\n",
    "       \n",
    "        elif choice in [\"5\", \"6\", \"7\", \"8\"]:\n",
    "            if sign_in():\n",
    "                if choice == \"5\":\n",
    "                    display_item_details(\"Special Combo Meal\")\n",
    "                elif choice == \"6\":\n",
    "                    display_item_details(\"Exclusive Dessert\")\n",
    "                elif choice == \"7\":\n",
    "                    display_item_details(\"Premium Drink\")\n",
    "                elif choice == \"8\":\n",
    "                    display_item_details(\"VIP Membership\")\n",
    "        elif choice in [\"1\", \"2\", \"3\", \"4\"]:\n",
    "            display_item_details([\"Burger\", \"Pizza\", \"Sandwich\", \"Salad\"][int(choice) - 1])\n",
    "        else:\n",
    "            print(\"Invalid option. Please try again.\")\n",
    "\n",
    "if __name__ == \"__main__\":\n",
    "    main()\n"
   ]
  },
  {
   "cell_type": "code",
   "execution_count": null,
   "id": "7d673878-836a-433e-b052-172de9af0d2d",
   "metadata": {},
   "outputs": [],
   "source": []
  }
 ],
 "metadata": {
  "kernelspec": {
   "display_name": "Python 3 (ipykernel)",
   "language": "python",
   "name": "python3"
  },
  "language_info": {
   "codemirror_mode": {
    "name": "ipython",
    "version": 3
   },
   "file_extension": ".py",
   "mimetype": "text/x-python",
   "name": "python",
   "nbconvert_exporter": "python",
   "pygments_lexer": "ipython3",
   "version": "3.11.7"
  }
 },
 "nbformat": 4,
 "nbformat_minor": 5
}
