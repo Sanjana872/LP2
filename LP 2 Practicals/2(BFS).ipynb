{
 "cells": [
  {
   "cell_type": "code",
   "execution_count": 2,
   "id": "4c1152f3-a076-4c9e-bd4f-998615429cba",
   "metadata": {},
   "outputs": [],
   "source": [
    "#2.\tImplement Breadth First Search algorithm. Use an undirected graph and develop a recursive algorithm for searching all the vertices of a graph or tree data structure."
   ]
  },
  {
   "cell_type": "code",
   "execution_count": 1,
   "id": "63cccc64-a6c2-4780-aab7-eb25c0aa0412",
   "metadata": {},
   "outputs": [
    {
     "name": "stdin",
     "output_type": "stream",
     "text": [
      "Enter the number of edges:  4\n"
     ]
    },
    {
     "name": "stdout",
     "output_type": "stream",
     "text": [
      "Enter 4 pairs of vertices (u v) separated by space:\n"
     ]
    },
    {
     "name": "stdin",
     "output_type": "stream",
     "text": [
      " 3 2\n",
      " 2 3\n",
      " 3 4\n",
      " 4 5\n",
      "Enter the starting vertex for BFS traversal:  2\n"
     ]
    },
    {
     "name": "stdout",
     "output_type": "stream",
     "text": [
      "\n",
      "BFS traversal starting from vertex 2 :\n",
      "2 3 4 5 \n"
     ]
    }
   ],
   "source": [
    "from collections import defaultdict, deque\n",
    "\n",
    "class Graph:\n",
    "    def __init__(self):\n",
    "        self.adj_list = defaultdict(list)\n",
    "\n",
    "    def add_edge(self, u, v):\n",
    "        self.adj_list[u].append(v)\n",
    "        self.adj_list[v].append(u)  # For undirected graph\n",
    "\n",
    "    def bfs_traversal(self, start):\n",
    "        visited = set()\n",
    "        queue = deque([start])\n",
    "        visited.add(start)\n",
    "\n",
    "        while queue:\n",
    "            v = queue.popleft()\n",
    "            print(v, end=' ')  # Process the current vertex\n",
    "\n",
    "            for neighbor in self.adj_list[v]:\n",
    "                if neighbor not in visited:\n",
    "                    visited.add(neighbor)\n",
    "                    queue.append(neighbor)\n",
    "\n",
    "        print()  # Print a new line after BFS traversal\n",
    "\n",
    "if __name__ == \"__main__\":\n",
    "    g = Graph()\n",
    "\n",
    "    n = int(input(\"Enter the number of edges: \"))\n",
    "\n",
    "    print(f\"Enter {n} pairs of vertices (u v) separated by space:\")\n",
    "    for _ in range(n):\n",
    "        u, v = map(int, input().split())\n",
    "        g.add_edge(u, v)\n",
    "\n",
    "    start_vertex = int(input(\"Enter the starting vertex for BFS traversal: \"))\n",
    "\n",
    "    print(\"\\nBFS traversal starting from vertex\", start_vertex, \":\")\n",
    "    g.bfs_traversal(start_vertex)\n"
   ]
  },
  {
   "cell_type": "code",
   "execution_count": null,
   "id": "d22834ef-5814-405e-a818-c34e8da64949",
   "metadata": {},
   "outputs": [],
   "source": []
  }
 ],
 "metadata": {
  "kernelspec": {
   "display_name": "Python 3 (ipykernel)",
   "language": "python",
   "name": "python3"
  },
  "language_info": {
   "codemirror_mode": {
    "name": "ipython",
    "version": 3
   },
   "file_extension": ".py",
   "mimetype": "text/x-python",
   "name": "python",
   "nbconvert_exporter": "python",
   "pygments_lexer": "ipython3",
   "version": "3.11.7"
  }
 },
 "nbformat": 4,
 "nbformat_minor": 5
}
