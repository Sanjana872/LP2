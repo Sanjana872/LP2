{
 "cells": [
  {
   "cell_type": "code",
   "execution_count": 2,
   "id": "10ef9177-332b-4364-9cae-34266965ffef",
   "metadata": {},
   "outputs": [
    {
     "name": "stdin",
     "output_type": "stream",
     "text": [
      "Enter the number of edges:  5\n"
     ]
    },
    {
     "name": "stdout",
     "output_type": "stream",
     "text": [
      "Enter 5 pairs of vertices (u v) separated by space:\n"
     ]
    },
    {
     "name": "stdin",
     "output_type": "stream",
     "text": [
      " 0 1\n",
      " 0 2\n",
      " 0 3\n",
      " 1 2\n",
      " 2 4\n",
      "Enter the starting vertex for DFS traversal:  0\n"
     ]
    },
    {
     "name": "stdout",
     "output_type": "stream",
     "text": [
      "\n",
      "DFS traversal starting from vertex 0 :\n",
      "0 1 2 4 3 \n"
     ]
    }
   ],
   "source": [
    "from collections import defaultdict\n",
    "\n",
    "class Graph:\n",
    "    def __init__(self):\n",
    "        self.adj_list = defaultdict(list)\n",
    "\n",
    "    def add_edge(self, u, v):\n",
    "        self.adj_list[u].append(v)\n",
    "        self.adj_list[v].append(u)  # For undirected graph\n",
    "\n",
    "    def dfs_recursive(self, v, visited):# stack\n",
    "        visited.add(v)\n",
    "        print(v, end=' ')  # Process the current vertex\n",
    "\n",
    "        for neighbor in self.adj_list[v]:\n",
    "            if neighbor not in visited:\n",
    "                self.dfs_recursive(neighbor, visited)\n",
    "\n",
    "    def dfs_traversal(self, start):\n",
    "        visited = set()\n",
    "        self.dfs_recursive(start, visited)\n",
    "        print()  # Print a new line after DFS traversal\n",
    "\n",
    "if __name__ == \"__main__\":\n",
    "    g = Graph()\n",
    "\n",
    "    n = int(input(\"Enter the number of edges: \"))\n",
    "\n",
    "    print(f\"Enter {n} pairs of vertices (u v) separated by space:\")\n",
    "    for _ in range(n):\n",
    "        u, v = map(int, input().split())\n",
    "        g.add_edge(u, v)\n",
    "\n",
    "    start_vertex = int(input(\"Enter the starting vertex for DFS traversal: \"))\n",
    "    \n",
    "    print(\"\\nDFS traversal starting from vertex\", start_vertex, \":\")\n",
    "    g.dfs_traversal(start_vertex)\n"
   ]
  },
  {
   "cell_type": "code",
   "execution_count": null,
   "id": "6d3dfea4-8886-48c4-b3cc-787a114adcf4",
   "metadata": {},
   "outputs": [],
   "source": []
  }
 ],
 "metadata": {
  "kernelspec": {
   "display_name": "Python 3 (ipykernel)",
   "language": "python",
   "name": "python3"
  },
  "language_info": {
   "codemirror_mode": {
    "name": "ipython",
    "version": 3
   },
   "file_extension": ".py",
   "mimetype": "text/x-python",
   "name": "python",
   "nbconvert_exporter": "python",
   "pygments_lexer": "ipython3",
   "version": "3.11.7"
  }
 },
 "nbformat": 4,
 "nbformat_minor": 5
}
