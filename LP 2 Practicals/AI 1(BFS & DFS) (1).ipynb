{
 "cells": [
  {
   "cell_type": "code",
   "execution_count": null,
   "id": "49027ba6-e753-4580-b836-a28ab5d49834",
   "metadata": {},
   "outputs": [],
   "source": [
    "'''Implement depth first search algorithm and breadth first search algorith,, use an undirected graph and develop a recursive algorithm for searching all the vertices of a graph or tree data structure'''"
   ]
  },
  {
   "cell_type": "code",
   "execution_count": 1,
   "id": "228a4e77-d49e-420d-b0a0-d1d765916fc4",
   "metadata": {},
   "outputs": [
    {
     "name": "stdout",
     "output_type": "stream",
     "text": [
      "DFS traversal starting from vertex 0:\n",
      "0 1 3 4 2 \n",
      "BFS traversal starting from vertex 0:\n",
      "0 1 2 3 4 "
     ]
    }
   ],
   "source": [
    "from collections import defaultdict, deque\n",
    "\n",
    "class Graph:\n",
    "    def __init__(self):\n",
    "        self.adj_list = defaultdict(list)\n",
    "\n",
    "    def add_edge(self, u, v):\n",
    "        self.adj_list[u].append(v)\n",
    "        self.adj_list[v].append(u)  # For undirected graph\n",
    "\n",
    "    def dfs_recursive(self, v, visited):\n",
    "        visited.add(v)\n",
    "        print(v, end=' ')  # Process the current vertex\n",
    "\n",
    "        for neighbor in self.adj_list[v]:\n",
    "            if neighbor not in visited:\n",
    "                self.dfs_recursive(neighbor, visited)\n",
    "\n",
    "    def dfs(self, start):\n",
    "        visited = set()\n",
    "        self.dfs_recursive(start, visited)\n",
    "\n",
    "    def bfs(self, start):\n",
    "        visited = set()\n",
    "        queue = deque([start])\n",
    "        visited.add(start)\n",
    "\n",
    "        while queue:\n",
    "            v = queue.popleft()\n",
    "            print(v, end=' ')  # Process the current vertex\n",
    "\n",
    "            for neighbor in self.adj_list[v]:\n",
    "                if neighbor not in visited:\n",
    "                    visited.add(neighbor)\n",
    "                    queue.append(neighbor)\n",
    "\n",
    "# Example usage:\n",
    "g = Graph()\n",
    "g.add_edge(0, 1)\n",
    "g.add_edge(0, 2)\n",
    "g.add_edge(1, 3)\n",
    "g.add_edge(1, 4)\n",
    "g.add_edge(2, 4)\n",
    "g.add_edge(3, 4)\n",
    "\n",
    "print(\"DFS traversal starting from vertex 0:\")\n",
    "g.dfs(0)\n",
    "print(\"\\nBFS traversal starting from vertex 0:\")\n",
    "g.bfs(0)\n"
   ]
  },
  {
   "cell_type": "code",
   "execution_count": 4,
   "id": "8aa4c07e-dc81-4351-aa4d-d2c03f5f18ff",
   "metadata": {},
   "outputs": [
    {
     "name": "stdin",
     "output_type": "stream",
     "text": [
      "Enter the number of edges:  5\n"
     ]
    },
    {
     "name": "stdout",
     "output_type": "stream",
     "text": [
      "Enter 5 pairs of vertices (u v) separated by space:\n"
     ]
    },
    {
     "name": "stdin",
     "output_type": "stream",
     "text": [
      " 1 2\n",
      " 4 5\n",
      " 3 6\n",
      " 7 4\n",
      " 3 2\n",
      "Enter the starting vertex for traversal:  1\n"
     ]
    },
    {
     "name": "stdout",
     "output_type": "stream",
     "text": [
      "\n",
      "DFS traversal starting from vertex 1 :\n",
      "1 2 3 6 \n",
      "BFS traversal starting from vertex 1 :\n",
      "1 2 3 6 "
     ]
    }
   ],
   "source": [
    "from collections import defaultdict, deque\n",
    "\n",
    "class Graph:\n",
    "    def __init__(self):\n",
    "        self.adj_list = defaultdict(list)\n",
    "\n",
    "    def add_edge(self, u, v):\n",
    "        self.adj_list[u].append(v)\n",
    "        self.adj_list[v].append(u)  # For undirected graph\n",
    "\n",
    "    def dfs_recursive(self, v, visited):\n",
    "        visited.add(v)\n",
    "        print(v, end=' ')  # Process the current vertex\n",
    "\n",
    "        for neighbor in self.adj_list[v]:\n",
    "            if neighbor not in visited:\n",
    "                self.dfs_recursive(neighbor, visited)\n",
    "\n",
    "    def dfs(self, start):\n",
    "        visited = set()\n",
    "        self.dfs_recursive(start, visited)\n",
    "\n",
    "    def bfs(self, start):\n",
    "        visited = set()\n",
    "        queue = deque([start])\n",
    "        visited.add(start)\n",
    "\n",
    "        while queue:\n",
    "            v = queue.popleft()\n",
    "            print(v, end=' ')  # Process the current vertex\n",
    "\n",
    "            for neighbor in self.adj_list[v]:\n",
    "                if neighbor not in visited:\n",
    "                    visited.add(neighbor)\n",
    "                    queue.append(neighbor)\n",
    "\n",
    "if __name__ == \"__main__\":\n",
    "    g = Graph()\n",
    "\n",
    "    n = int(input(\"Enter the number of edges: \"))\n",
    "\n",
    "    print(f\"Enter {n} pairs of vertices (u v) separated by space:\")\n",
    "    for _ in range(n):\n",
    "        u, v = map(int, input().split())\n",
    "        g.add_edge(u, v)\n",
    "\n",
    "    start_vertex = int(input(\"Enter the starting vertex for traversal: \"))\n",
    "\n",
    "    print(\"\\nDFS traversal starting from vertex\", start_vertex, \":\")\n",
    "    g.dfs(start_vertex)\n",
    "\n",
    "    print(\"\\nBFS traversal starting from vertex\", start_vertex, \":\")\n",
    "    g.bfs(start_vertex)\n"
   ]
  },
  {
   "cell_type": "code",
   "execution_count": null,
   "id": "26cf591d-9dd6-4054-b5b8-66ea4a52919c",
   "metadata": {},
   "outputs": [],
   "source": []
  }
 ],
 "metadata": {
  "kernelspec": {
   "display_name": "Python 3 (ipykernel)",
   "language": "python",
   "name": "python3"
  },
  "language_info": {
   "codemirror_mode": {
    "name": "ipython",
    "version": 3
   },
   "file_extension": ".py",
   "mimetype": "text/x-python",
   "name": "python",
   "nbconvert_exporter": "python",
   "pygments_lexer": "ipython3",
   "version": "3.12.2"
  }
 },
 "nbformat": 4,
 "nbformat_minor": 5
}
