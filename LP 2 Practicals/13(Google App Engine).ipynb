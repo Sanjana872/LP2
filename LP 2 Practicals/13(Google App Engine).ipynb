{
 "cells": [
  {
   "cell_type": "code",
   "execution_count": null,
   "id": "0b078d9e-baf3-4337-b829-5f213b8cd09f",
   "metadata": {},
   "outputs": [],
   "source": [
    "installation and configure Google app engine:\n",
    "steps:\n",
    "1. open google app engine\n",
    "2. go to console\n",
    "3. create project\n",
    "4. open cloud shell\n",
    "5. search for App Engine: Qwik Start - Python\n",
    "6. execute command given to display hello world\n",
    "Commands:\n",
    "Activate Cloud Shell:\n",
    "gcloud auth list\n",
    "gcloud config list project\n",
    "gcloud config set compute/region \"REGION\"\n",
    "\n",
    "Download the Hello World app:\n",
    "git clone https://github.com/GoogleCloudPlatform/python-docs-samples.git\n",
    "cd python-docs-samples/appengine/standard_python3/hello_world\n",
    "\n",
    "Test the application:\n",
    "dev_appserver.py app.yaml\n",
    "\n",
    "Make a change:\n",
    "cd python-docs-samples/appengine/standard_python3/hello_world\n",
    "nano main.py\n",
    "\n",
    "Deploy your app:\n",
    "gcloud app deploy\n",
    "\n",
    "View your application:\n",
    "gcloud app browse\n"
   ]
  },
  {
   "cell_type": "code",
   "execution_count": null,
   "id": "5d69201b-f21b-4880-91c6-e23133e42795",
   "metadata": {},
   "outputs": [],
   "source": [
    "\n"
   ]
  }
 ],
 "metadata": {
  "kernelspec": {
   "display_name": "Python 3 (ipykernel)",
   "language": "python",
   "name": "python3"
  },
  "language_info": {
   "codemirror_mode": {
    "name": "ipython",
    "version": 3
   },
   "file_extension": ".py",
   "mimetype": "text/x-python",
   "name": "python",
   "nbconvert_exporter": "python",
   "pygments_lexer": "ipython3",
   "version": "3.11.7"
  }
 },
 "nbformat": 4,
 "nbformat_minor": 5
}
