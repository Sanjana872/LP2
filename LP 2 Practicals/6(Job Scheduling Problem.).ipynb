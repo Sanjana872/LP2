{
 "cells": [
  {
   "cell_type": "code",
   "execution_count": null,
   "id": "9d86424d-bb83-41d7-ac94-69afebc712d4",
   "metadata": {},
   "outputs": [],
   "source": [
    "#6.\tImplement Greedy search algorithm for Job Scheduling Problem."
   ]
  },
  {
   "cell_type": "code",
   "execution_count": 2,
   "id": "7c9b0ff3-08af-4ff5-8664-b94c142ab615",
   "metadata": {},
   "outputs": [
    {
     "name": "stdin",
     "output_type": "stream",
     "text": [
      "Enter the number of jobs:  5\n",
      "Enter job ID for job 1:  1\n",
      "Enter processing time for job 1:  4\n",
      "Enter job ID for job 2:  2\n",
      "Enter processing time for job 2:  3\n",
      "Enter job ID for job 3:  3\n",
      "Enter processing time for job 3:  2\n",
      "Enter job ID for job 4:  4\n",
      "Enter processing time for job 4:  6\n",
      "Enter job ID for job 5:  5\n",
      "Enter processing time for job 5:  3\n"
     ]
    },
    {
     "name": "stdout",
     "output_type": "stream",
     "text": [
      "Job Schedule (Job ID, Start Time, Completion Time):\n",
      "(3, 3, 5)\n",
      "(2, 5, 8)\n",
      "(5, 8, 11)\n",
      "(1, 11, 15)\n",
      "(4, 15, 21)\n",
      "Total Completion Time: 45\n"
     ]
    }
   ],
   "source": [
    "def greedy_job_scheduling(jobs):\n",
    "    # Sort jobs by processing time (ascending order)\n",
    "    jobs.sort(key=lambda x: x[1])  # Sort based on processing time (x[1])\n",
    "\n",
    "    # Initialize variables\n",
    "    n = len(jobs)\n",
    "    schedule = []\n",
    "    current_time = 0\n",
    "    total_completion_time = 0\n",
    "\n",
    "    # Process jobs in order of increasing processing time (SPT)\n",
    "    for job in jobs:\n",
    "        job_id, processing_time = job\n",
    "        start_time = max(current_time, job_id)  # Start time is the later of current time or job id\n",
    "        completion_time = start_time + processing_time\n",
    "        schedule.append((job_id, start_time, completion_time))\n",
    "        total_completion_time += completion_time - job_id\n",
    "        current_time = completion_time  # Update current time\n",
    "\n",
    "    return schedule, total_completion_time\n",
    "\n",
    "if __name__ == \"__main__\":\n",
    "    # Input the number of jobs\n",
    "    n = int(input(\"Enter the number of jobs: \"))\n",
    "\n",
    "    # Input each job's details\n",
    "    jobs = []\n",
    "    for i in range(n):\n",
    "        job_id = int(input(f\"Enter job ID for job {i + 1}: \"))\n",
    "        processing_time = int(input(f\"Enter processing time for job {job_id}: \"))\n",
    "        jobs.append((job_id, processing_time))\n",
    "\n",
    "    # Run greedy job scheduling algorithm\n",
    "    schedule, total_completion_time = greedy_job_scheduling(jobs)\n",
    "\n",
    "    # Print the schedule and total completion time\n",
    "    print(\"Job Schedule (Job ID, Start Time, Completion Time):\")\n",
    "    for job in schedule:\n",
    "        print(job)\n",
    "    print(\"Total Completion Time:\", total_completion_time)\n"
   ]
  },
  {
   "cell_type": "code",
   "execution_count": null,
   "id": "bd52cc40-8407-49d6-b95a-f556faead74f",
   "metadata": {},
   "outputs": [],
   "source": []
  }
 ],
 "metadata": {
  "kernelspec": {
   "display_name": "Python 3 (ipykernel)",
   "language": "python",
   "name": "python3"
  },
  "language_info": {
   "codemirror_mode": {
    "name": "ipython",
    "version": 3
   },
   "file_extension": ".py",
   "mimetype": "text/x-python",
   "name": "python",
   "nbconvert_exporter": "python",
   "pygments_lexer": "ipython3",
   "version": "3.11.7"
  }
 },
 "nbformat": 4,
 "nbformat_minor": 5
}
