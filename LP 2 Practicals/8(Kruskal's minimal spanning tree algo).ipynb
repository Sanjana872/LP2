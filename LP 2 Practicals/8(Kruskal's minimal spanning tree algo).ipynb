{
 "cells": [
  {
   "cell_type": "code",
   "execution_count": null,
   "id": "962f36c8-d7a6-4e4e-be2c-50b2558700fd",
   "metadata": {},
   "outputs": [],
   "source": [
    "#8.\tImplement Greedy search algorithm for Kruskal's Minimal Spanning Tree Algorithm."
   ]
  },
  {
   "cell_type": "code",
   "execution_count": 1,
   "id": "fef9808e-7b1a-4f54-b951-c154ef4aa398",
   "metadata": {},
   "outputs": [
    {
     "name": "stdin",
     "output_type": "stream",
     "text": [
      "Enter the number of vertices:  3\n",
      "Enter the number of edges:  2\n"
     ]
    },
    {
     "name": "stdout",
     "output_type": "stream",
     "text": [
      "Enter 2 edges (u v weight) separated by space:\n"
     ]
    },
    {
     "name": "stdin",
     "output_type": "stream",
     "text": [
      " 1 4\n"
     ]
    },
    {
     "name": "stdout",
     "output_type": "stream",
     "text": [
      "Error: not enough values to unpack (expected 3, got 2)\n"
     ]
    }
   ],
   "source": [
    "class UnionFind:\n",
    "    def __init__(self, n):\n",
    "        self.parent = list(range(n))\n",
    "        self.rank = [0] * n\n",
    "\n",
    "    def find(self, u):\n",
    "        if self.parent[u] != u:\n",
    "            self.parent[u] = self.find(self.parent[u])  # Path compression\n",
    "        return self.parent[u]\n",
    "\n",
    "    def union(self, u, v):\n",
    "        root_u = self.find(u)\n",
    "        root_v = self.find(v)\n",
    "\n",
    "        if root_u != root_v:\n",
    "            # Union by rank\n",
    "            if self.rank[root_u] > self.rank[root_v]:\n",
    "                self.parent[root_v] = root_u\n",
    "            elif self.rank[root_u] < self.rank[root_v]:\n",
    "                self.parent[root_u] = root_v\n",
    "            else:\n",
    "                self.parent[root_v] = root_u\n",
    "                self.rank[root_u] += 1\n",
    "\n",
    "    def connected(self, u, v):\n",
    "        return self.find(u) == self.find(v)\n",
    "\n",
    "class Graph:\n",
    "    def __init__(self, vertices):\n",
    "        self.vertices = vertices\n",
    "        self.edges = []\n",
    "\n",
    "    def add_edge(self, u, v, weight):\n",
    "        # Ensure that u and v are valid vertex indices\n",
    "        if 0 <= u < self.vertices and 0 <= v < self.vertices:\n",
    "            self.edges.append((weight, u, v))\n",
    "        else:\n",
    "            raise ValueError(\"Invalid vertex index in edge.\")\n",
    "\n",
    "    def kruskal_mst(self):\n",
    "        mst = []\n",
    "        uf = UnionFind(self.vertices)\n",
    "\n",
    "        # Sort edges by weight\n",
    "        self.edges.sort()\n",
    "\n",
    "        for weight, u, v in self.edges:\n",
    "            if not uf.connected(u, v):\n",
    "                uf.union(u, v)\n",
    "                mst.append((u, v, weight))\n",
    "\n",
    "        return mst\n",
    "\n",
    "if __name__ == \"__main__\":\n",
    "    try:\n",
    "        # Input number of vertices and edges\n",
    "        n = int(input(\"Enter the number of vertices: \"))\n",
    "        m = int(input(\"Enter the number of edges: \"))\n",
    "\n",
    "        g = Graph(n)\n",
    "\n",
    "        # Input edges\n",
    "        print(f\"Enter {m} edges (u v weight) separated by space:\")\n",
    "        for _ in range(m):\n",
    "            u, v, weight = map(int, input().split())\n",
    "            g.add_edge(u, v, weight)\n",
    "\n",
    "        # Compute MST using Kruskal's algorithm\n",
    "        mst_edges = g.kruskal_mst()\n",
    "\n",
    "        # Output MST edges and total weight\n",
    "        if mst_edges:\n",
    "            print(\"Minimum Spanning Tree (MST) edges:\")\n",
    "            total_weight = sum(weight for _, _, weight in mst_edges)\n",
    "            for u, v, weight in mst_edges:\n",
    "                print(f\"({u} - {v}): {weight}\")\n",
    "            print(\"Total Weight of MST:\", total_weight)\n",
    "        else:\n",
    "            print(\"No MST found. Check the input graph.\")\n",
    "    except ValueError as e:\n",
    "        print(f\"Error: {e}\")\n",
    "    except Exception as e:\n",
    "        print(f\"An error occurred: {e}\")\n"
   ]
  },
  {
   "cell_type": "code",
   "execution_count": null,
   "id": "b9381848-2d7b-4346-877c-dbd0c6324ba7",
   "metadata": {},
   "outputs": [],
   "source": []
  }
 ],
 "metadata": {
  "kernelspec": {
   "display_name": "Python 3 (ipykernel)",
   "language": "python",
   "name": "python3"
  },
  "language_info": {
   "codemirror_mode": {
    "name": "ipython",
    "version": 3
   },
   "file_extension": ".py",
   "mimetype": "text/x-python",
   "name": "python",
   "nbconvert_exporter": "python",
   "pygments_lexer": "ipython3",
   "version": "3.11.7"
  }
 },
 "nbformat": 4,
 "nbformat_minor": 5
}
