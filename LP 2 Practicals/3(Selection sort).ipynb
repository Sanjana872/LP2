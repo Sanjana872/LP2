{
 "cells": [
  {
   "cell_type": "code",
   "execution_count": null,
   "id": "c71bc5ee-92ec-4596-9d7c-7e803cee9603",
   "metadata": {},
   "outputs": [],
   "source": [
    "#3.\tImplement Greedy search algorithm for¬ Selection Sort."
   ]
  },
  {
   "cell_type": "code",
   "execution_count": 3,
   "id": "04b4ec38-7e70-44c6-b476-00a9f18af7e4",
   "metadata": {},
   "outputs": [
    {
     "name": "stdin",
     "output_type": "stream",
     "text": [
      "Enter the list of numbers:  3445 55\n"
     ]
    },
    {
     "name": "stdout",
     "output_type": "stream",
     "text": [
      "List after sorting is : [55, 3445]\n"
     ]
    }
   ],
   "source": [
    "def selectionSort(arr):\n",
    "    for i in range(len(arr)):\n",
    "        min_index = i\n",
    "        for j in range(i + 1, len(arr)):\n",
    "            if arr[j] < arr[min_index]:\n",
    "                min_index = j\n",
    "        arr[i], arr[min_index] = arr[min_index], arr[i]\n",
    "    return arr\n",
    "\n",
    "arr = input('Enter the list of numbers: ').split()\n",
    "arr = [int(x) for x in arr]\n",
    "arr = selectionSort(arr)\n",
    "print('List after sorting is : ', end='')\n",
    "print(arr)\n"
   ]
  },
  {
   "cell_type": "markdown",
   "id": "cb1130eb-062d-48b0-acae-315fec0769e5",
   "metadata": {},
   "source": [
    "Selection sort,Greedy time space complexity ,O(1) , h(n),f(n),greedy -uninformed search"
   ]
  },
  {
   "cell_type": "code",
   "execution_count": 10,
   "id": "b1018762-b631-4640-a064-4048e07877b1",
   "metadata": {},
   "outputs": [
    {
     "name": "stdin",
     "output_type": "stream",
     "text": [
      "Enter a number (or enter 'done' to finish):  4\n",
      "Enter a number (or enter 'done' to finish):  3\n",
      "Enter a number (or enter 'done' to finish):  2\n",
      "Enter a number (or enter 'done' to finish):  4\n",
      "Enter a number (or enter 'done' to finish):  \n"
     ]
    },
    {
     "name": "stdout",
     "output_type": "stream",
     "text": [
      "Original Array: [4, 3, 2, 4]\n",
      "Step 1: [2, 3, 4, 4]\n",
      "Step 2: [2, 3, 4, 4]\n",
      "Step 3: [2, 3, 4, 4]\n",
      "Step 4: [2, 3, 4, 4]\n",
      "Sorted Array: [2, 3, 4, 4]\n"
     ]
    }
   ],
   "source": [
    "def greedy_selection_sort(arr):\n",
    "    n = len(arr)\n",
    "    \n",
    "    for i in range(n):\n",
    "        # Find the index of the minimum element in the unsorted part\n",
    "        min_index = i\n",
    "        for j in range(i + 1, n):\n",
    "            if arr[j] < arr[min_index]:\n",
    "                min_index = j\n",
    "        \n",
    "        # Swap the minimum element with the current element (i-th element)\n",
    "        arr[i], arr[min_index] = arr[min_index], arr[i]\n",
    "        \n",
    "        # Print the current state of the array after each swap (optional for visualization)\n",
    "        print(f\"Step {i + 1}: {arr}\")\n",
    "    \n",
    "    return arr\n",
    "\n",
    "if __name__ == \"__main__\":\n",
    "    # Input a list of numbers from the user\n",
    "    arr = []\n",
    "    while True:\n",
    "        try:\n",
    "            num = int(input(\"Enter a number (or enter 'done' to finish): \"))\n",
    "            arr.append(num)\n",
    "        except ValueError:\n",
    "            break  # Exit loop if user enters 'done' or invalid input\n",
    "    \n",
    "    if not arr:\n",
    "        print(\"No input provided. Exiting...\")\n",
    "    else:\n",
    "        print(\"Original Array:\", arr)\n",
    "        sorted_arr = greedy_selection_sort(arr.copy())  # Make a copy to preserve the original array\n",
    "        print(\"Sorted Array:\", sorted_arr)\n"
   ]
  },
  {
   "cell_type": "code",
   "execution_count": null,
   "id": "96d58156-12a4-4f5c-8a63-fe4ae796ed75",
   "metadata": {},
   "outputs": [],
   "source": []
  }
 ],
 "metadata": {
  "kernelspec": {
   "display_name": "Python 3 (ipykernel)",
   "language": "python",
   "name": "python3"
  },
  "language_info": {
   "codemirror_mode": {
    "name": "ipython",
    "version": 3
   },
   "file_extension": ".py",
   "mimetype": "text/x-python",
   "name": "python",
   "nbconvert_exporter": "python",
   "pygments_lexer": "ipython3",
   "version": "3.11.7"
  }
 },
 "nbformat": 4,
 "nbformat_minor": 5
}
