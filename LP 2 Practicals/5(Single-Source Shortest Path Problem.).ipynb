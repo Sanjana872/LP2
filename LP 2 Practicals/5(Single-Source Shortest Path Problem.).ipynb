{
 "cells": [
  {
   "cell_type": "code",
   "execution_count": null,
   "id": "3e80f8ac-0247-4747-8de1-f0fe821acd53",
   "metadata": {},
   "outputs": [],
   "source": [
    "#5.\tImplement Greedy search algorithm for Single-Source Shortest Path Problem.USE PIYUSH"
   ]
  },
  {
   "cell_type": "code",
   "execution_count": 2,
   "id": "1d0b0eb7-f728-4722-9d81-eb28fa94c3ef",
   "metadata": {},
   "outputs": [
    {
     "name": "stdin",
     "output_type": "stream",
     "text": [
      "Enter the number of edges:  5\n",
      "Enter the edge (source destination weight):  A B 2\n",
      "Enter the edge (source destination weight):  A C 5\n",
      "Enter the edge (source destination weight):  C D 1\n",
      "Enter the edge (source destination weight):  B D 3\n",
      "Enter the edge (source destination weight):  C B 1\n",
      "Enter the source node:  A\n"
     ]
    },
    {
     "name": "stdout",
     "output_type": "stream",
     "text": [
      "{'A': 0, 'C': 5, 'B': 2}\n"
     ]
    }
   ],
   "source": [
    "import sys\n",
    "\n",
    "def greedy_search(graph, source):\n",
    "    distances = {node: sys.maxsize for node in graph}\n",
    "    distances[source] = 0\n",
    "    unvisited = set(graph.keys())\n",
    "    \n",
    "    while unvisited:\n",
    "        current_node = min(unvisited, key=lambda node: distances[node])\n",
    "        unvisited.remove(current_node)\n",
    "        \n",
    "        for neighbor, weight in graph[current_node].items():\n",
    "            if neighbor in unvisited:\n",
    "                new_distance = distances[current_node] + weight\n",
    "                if new_distance < distances[neighbor]:\n",
    "                    distances[neighbor] = new_distance\n",
    "    \n",
    "    return distances\n",
    "\n",
    "if __name__ == \"__main__\":\n",
    "    graph = {}\n",
    "    n = int(input(\"Enter the number of edges: \"))\n",
    "    \n",
    "    for i in range(n):\n",
    "        edge = input(\"Enter the edge (source destination weight): \").split()\n",
    "        source, destination, weight = edge[0], edge[1], int(edge[2])\n",
    "        \n",
    "        if source not in graph:\n",
    "            graph[source] = {}\n",
    "        graph[source][destination] = weight\n",
    "    \n",
    "    source = input(\"Enter the source node: \")\n",
    "    distances = greedy_search(graph, source)\n",
    "    print(distances)\n"
   ]
  },
  {
   "cell_type": "code",
   "execution_count": null,
   "id": "62966b2e-4c94-4643-8020-b2598aafe4f6",
   "metadata": {},
   "outputs": [
    {
     "name": "stdin",
     "output_type": "stream",
     "text": [
      "Enter the number of edges:  5\n"
     ]
    }
   ],
   "source": [
    "import sys\n",
    "\n",
    "def dijkstra(graph, source):\n",
    "    distances = {node: sys.maxsize for node in graph}\n",
    "    distances[source] = 0\n",
    "    unvisited = set(graph.keys())\n",
    "    \n",
    "    while unvisited:\n",
    "        current_node = min(unvisited, key=lambda node: distances[node])\n",
    "        unvisited.remove(current_node)\n",
    "        \n",
    "        for neighbor, weight in graph[current_node].items():\n",
    "            if neighbor in unvisited:\n",
    "                new_distance = distances[current_node] + weight\n",
    "                if new_distance < distances[neighbor]:\n",
    "                    distances[neighbor] = new_distance\n",
    "    \n",
    "    return distances\n",
    "\n",
    "graph = {}\n",
    "n = int(input(\"Enter the number of edges: \"))\n",
    "\n",
    "for i in range(n):\n",
    "    edge = input(\"Enter the edge (source destination weight): \").split()\n",
    "    source, destination, weight = edge[0], edge[1], int(edge[2])\n",
    "    \n",
    "    if source not in graph:\n",
    "        graph[source] = {}\n",
    "    graph[source][destination] = weight\n",
    "\n",
    "source = input(\"Enter the source node: \")\n",
    "\n",
    "if source not in graph:\n",
    "    print(\"Source node does not exist in the graph.\")\n",
    "else:\n",
    "    distances = dijkstra(graph, source)\n",
    "    print(\"Shortest distances from\", source, \"to all other nodes:\")\n",
    "    for node, distance in distances.items():\n",
    "        print(\"Node:\", node, \"Distance:\", distance)\n"
   ]
  },
  {
   "cell_type": "code",
   "execution_count": null,
   "id": "f6a4a3a5-5553-427f-993f-ecf08a3160b3",
   "metadata": {},
   "outputs": [],
   "source": []
  }
 ],
 "metadata": {
  "kernelspec": {
   "display_name": "Python 3 (ipykernel)",
   "language": "python",
   "name": "python3"
  },
  "language_info": {
   "codemirror_mode": {
    "name": "ipython",
    "version": 3
   },
   "file_extension": ".py",
   "mimetype": "text/x-python",
   "name": "python",
   "nbconvert_exporter": "python",
   "pygments_lexer": "ipython3",
   "version": "3.11.7"
  }
 },
 "nbformat": 4,
 "nbformat_minor": 5
}
